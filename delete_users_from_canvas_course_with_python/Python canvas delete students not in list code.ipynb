{
 "cells": [
  {
   "cell_type": "code",
   "execution_count": null,
   "id": "2539abd0",
   "metadata": {},
   "outputs": [],
   "source": [
    "pip install canvasapi"
   ]
  },
  {
   "cell_type": "code",
   "execution_count": null,
   "id": "df39f85f",
   "metadata": {},
   "outputs": [],
   "source": [
    "# Import the Canvas class\n",
    "from canvasapi import Canvas\n",
    "\n",
    "# Canvas API URL\n",
    "API_URL = \"\"\n",
    "\n",
    "# Canvas API key\n",
    "API_KEY = \"\"\n",
    "\n",
    "# Initialize a new Canvas object\n",
    "canvas = Canvas(API_URL, API_KEY)"
   ]
  },
  {
   "cell_type": "code",
   "execution_count": null,
   "id": "9cd367db",
   "metadata": {},
   "outputs": [],
   "source": [
    "#Retrieve course. USE THE CANVAS COURSE ID VISIBLE IN URL\n",
    "course = canvas.get_course()\n",
    "\n",
    "print(course)"
   ]
  },
  {
   "cell_type": "code",
   "execution_count": null,
   "id": "3b139309",
   "metadata": {},
   "outputs": [],
   "source": [
    "#Retrieve course. USE THE CANVAS COURSE ID VISIBLE IN URL\n",
    "course = canvas.get_course()\n",
    "\n",
    "#Check course\n",
    "print(\"COURSE:\")\n",
    "print(course)\n",
    "\n",
    "courseString = str(course)\n",
    "\n",
    "#Copy Paste studentnumbers from excel, also using =cell&\",\" command in excel to add comma between all student\n",
    "listOfStudents = [\n",
    "]\n",
    "\n",
    "#Check list\n",
    "print(listOfStudents)\n",
    "\n",
    "#Check enrollments\n",
    "usersInCourse = course.get_users()\n",
    "enrollments = course.get_enrollments()\n",
    "print(enrollments)\n",
    "\n",
    "#Keep track of amount deleted\n",
    "amountDeleted = 0;\n",
    "\n",
    "#Prompt user to continue\n",
    "command = input(\"Do you want to continue? Y/N: \")\n",
    "\n",
    "if command == \"Y\" or command == \"y\":\n",
    "    for item in enrollments: \n",
    "        #check if SIS ID starts with digit\n",
    "        if str(item.sis_user_id)[:1].isdigit():\n",
    "            #Check for type of enrollment\n",
    "            rollment = item.type\n",
    "            #Check if type of enrollment is a student role\n",
    "            if str(item.type) == \"StudentEnrollment\":\n",
    "                #Check if SIS ID matches with student number in list, if not then delete. Can be replaced with 'in' to delete students that are in the list \n",
    "                if int(item.sis_user_id) not in listOfStudents:\n",
    "                    #Removes student from course\n",
    "                    item.deactivate(\"delete\")\n",
    "                    print(str(item.sis_user_id) + \" has been deleted\")\n",
    "                    amountDeleted = amountDeleted + 1;\n",
    "                else:\n",
    "                    #Studentnumbers in list are not deleted\n",
    "                    print(str(item.sis_user_id) + \" is not in list. Has not been deleted\")\n",
    "            else:\n",
    "                #SIS ID that does not start with numerical are not deleted\n",
    "                print(str(item.sis_user_id) + \" is not a student. Has not been deleted\")\n",
    "        else:\n",
    "            #SIS ID that does not start with numerical are not deleted\n",
    "            print(str(item.sis_user_id) + \" is not a student. Has not been deleted\")\n",
    "        \n",
    "    print(str(amountDeleted) + \" amount of students have been deleted from course \" + courseString)\n",
    "else:\n",
    "    print(\"Terminated\")"
   ]
  }
 ],
 "metadata": {
  "kernelspec": {
   "display_name": "Python 3 (ipykernel)",
   "language": "python",
   "name": "python3"
  },
  "language_info": {
   "codemirror_mode": {
    "name": "ipython",
    "version": 3
   },
   "file_extension": ".py",
   "mimetype": "text/x-python",
   "name": "python",
   "nbconvert_exporter": "python",
   "pygments_lexer": "ipython3",
   "version": "3.9.7"
  }
 },
 "nbformat": 4,
 "nbformat_minor": 5
}
