{
 "cells": [
  {
   "cell_type": "code",
   "execution_count": 1,
   "id": "b8749318",
   "metadata": {},
   "outputs": [],
   "source": [
    "# License: CC BY-SA 4.0 Vrije Universiteit Amsterdam\n",
    "# Author: Dion Dresschers\n",
    "# Version: 20220107T151900\n",
    "\n",
    "# This environment is Jupyter Notebook (for Python and R): https://jupyter.org/install\n",
    "# The tooling is called CanvasAPI https://canvasapi.readthedocs.io/en/stable/getting-started.html#\n",
    "# CanvasAPI is a Python Wrapper for the Canvas LMS REST API: https://canvas.instructure.com/doc/api/\n",
    "\n",
    "# Install once the Python CanvasAPI library in this Jupyter Notebook (remove the `#`, which is a comment in Python):\n",
    "# !pip install canvasapi"
   ]
  },
  {
   "cell_type": "code",
   "execution_count": 2,
   "id": "9a1ce0bf",
   "metadata": {},
   "outputs": [],
   "source": [
    "# Import the Canvas Class inside this Python environment:\n",
    "from canvasapi import Canvas\n",
    "\n",
    "# Canvas API URL (please use the Development, Test, or Acceptation environment in stead of the Production environemnt)\n",
    "API_URL = 'https://canvas.vu.nl'\n",
    "\n",
    "# For access to Canvas you need to create a one time Canvas API KEY.\n",
    "  # You can create a Canvas API Key via your Canvas account. \n",
    "  # Go with Canvas to `Account` -> `Settings` `Approved Integrations` and choose for `+New` access. \n",
    "  # Describe the account as 'Canvas API', add the enddate which should be the end of this calendar year.\n",
    "\n",
    "# API_KEY = \"NEVER_SHOW_THIS_HERE_IN_PLAIN_TEXT, OR UPLOAD IN AN REPOSITORY\"\n",
    "\n",
    "# This is my alternative way to import the Canvas API Key\n",
    "with open('canvas_api_key.txt', 'r') as file:\n",
    "    lines = file.read()\n",
    "    API_KEY = lines.split('\\n', 1)[0] # read the first line\n",
    "    \n",
    "# Initialize a new Canvas object\n",
    "canvas = Canvas(API_URL, API_KEY)"
   ]
  },
  {
   "cell_type": "code",
   "execution_count": 3,
   "id": "d66c793f",
   "metadata": {},
   "outputs": [
    {
     "name": "stdout",
     "output_type": "stream",
     "text": [
      "Blended Learning\n"
     ]
    }
   ],
   "source": [
    "# Grab course 55096 # This is the ID of my personal test course. \n",
    "course = canvas.get_course(55096)\n",
    "\n",
    "print(course.name)"
   ]
  },
  {
   "cell_type": "code",
   "execution_count": 4,
   "id": "81a4dca3",
   "metadata": {},
   "outputs": [
    {
     "name": "stdout",
     "output_type": "stream",
     "text": [
      "<PaginatedList of type User>\n",
      "D.H.J. Dresschers (Dion) (173603)\n",
      "Dion Dresschers FA (179714)\n"
     ]
    }
   ],
   "source": [
    "users = course.get_users()\n",
    "print(users)\n",
    "\n",
    "#for user in users:\n",
    "#    print(user)\n",
    "    \n",
    "for user in users:\n",
    "    if 'Dresschers' in user.name:\n",
    "        print(user)\n",
    "        "
   ]
  },
  {
   "cell_type": "code",
   "execution_count": 5,
   "id": "3658b083",
   "metadata": {},
   "outputs": [],
   "source": [
    "# Update the course's name:\n",
    "#course.update(course={'name': 'test course dion'}) # No rights yet..."
   ]
  },
  {
   "cell_type": "code",
   "execution_count": 6,
   "id": "83f61127",
   "metadata": {},
   "outputs": [
    {
     "name": "stdout",
     "output_type": "stream",
     "text": [
      "Blended Learning\n"
     ]
    }
   ],
   "source": [
    "print(course.name)"
   ]
  },
  {
   "cell_type": "code",
   "execution_count": 7,
   "id": "7981fc1c",
   "metadata": {},
   "outputs": [
    {
     "name": "stdout",
     "output_type": "stream",
     "text": [
      "E_IBA1_ACSK Academic Skills (57318)\n",
      "E_IBA1_ACSK Academic Skills IBA (48340)\n",
      "E_ACC_AA Advanced Auditing (56236)\n",
      "BSNTL_2021_1 Bibliotheek studenten NTL (55137)\n",
      "E_EORM_BDS Big Data Statistics (53480)\n",
      "dds218_2020_1 Blended Learning (55096)\n",
      "TEMPLENG_9999_1 Canvas template FGB - English  (55260)\n",
      "E_EOR2_DSA Data Structures and Algorithms (50544)\n",
      "E_EOR2_DSA Data Structures and Algorithms (57419)\n",
      "EBE_LEC_COMMUNITY_001 EBE Lecturer Community (58042)\n",
      "ERNLC_2021_1 Escape Room Next Level Canvas (57984)\n",
      "FGBGOOD_9999_1 FGB Good practices (53003)\n",
      "GTKCFA_2016_1 Getting To Know Canvas - Faculty Admins (24364)\n",
      "TR_GTKC_TEACH_2016_001 Getting To Know Canvas - Teachers (204)\n",
      "IBA_LEC_COMMUNITY_1 IBA Lecturer Community (40484)\n",
      "KECO_COMMUNITY_1 Kanon Economie (55037)\n",
      "KLC_COMMUNITY_01 Kraket LaTeX Course (61146)\n",
      "E_EBE2_MRKT2 Marketing II (56732)\n",
      "E_EBE1_MICEC Microeconomics I (56138)\n",
      "E_EBE1_MICEC Microeconomics I (48338)\n",
      "cvk650_2018_1 Practice Course 1 cvk650 (41092)\n",
      "sek550_2019_1 Practice Course 1 sek550 (51026)\n",
      "Practice MVN360 Practice course MVN360 (20668)\n",
      "TFBL_COMMUNITY_1 SBE Task Force Blended Learning (61008)\n",
      "EQ_MKT_THS Thesis (58243)\n",
      "EQ_MKT_THS Thesis (51142)\n",
      "E_IBA3_THESI Thesis (56201)\n",
      "E_BK3_THS Thesis BK (49644)\n",
      "E_IBA3_THESI Thesis IBA (49353)\n",
      "E_STR_UECP Urban Economic Challenges and Policies (60098)\n",
      "CEC_2016_1 YAYYA (27302)\n"
     ]
    }
   ],
   "source": [
    "user = course.get_user(173603)\n",
    "user.name\n",
    "\n",
    "courses = user.get_courses()\n",
    "\n",
    "for course in courses:\n",
    "    print(course)"
   ]
  },
  {
   "cell_type": "code",
   "execution_count": null,
   "id": "b10ce5cf",
   "metadata": {},
   "outputs": [],
   "source": []
  }
 ],
 "metadata": {
  "kernelspec": {
   "display_name": "Python 3 (ipykernel)",
   "language": "python",
   "name": "python3"
  },
  "language_info": {
   "codemirror_mode": {
    "name": "ipython",
    "version": 3
   },
   "file_extension": ".py",
   "mimetype": "text/x-python",
   "name": "python",
   "nbconvert_exporter": "python",
   "pygments_lexer": "ipython3",
   "version": "3.9.7"
  }
 },
 "nbformat": 4,
 "nbformat_minor": 5
}
